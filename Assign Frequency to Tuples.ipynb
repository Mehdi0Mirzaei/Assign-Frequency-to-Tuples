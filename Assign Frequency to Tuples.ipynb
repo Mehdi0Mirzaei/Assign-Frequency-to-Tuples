{
 "cells": [
  {
   "cell_type": "code",
   "execution_count": 15,
   "id": "89a1496d",
   "metadata": {},
   "outputs": [
    {
     "name": "stdout",
     "output_type": "stream",
     "text": [
      "The original list is : [(6, 5, 8), (2, 7), (6, 5, 8), (6, 5, 8), (9,), (2, 7)]\n",
      "Frequency Tuple list : [(6, 5, 8, 3), (2, 7, 2), (9, 1)]\n"
     ]
    }
   ],
   "source": [
    "# initializing list\n",
    "test_list = [(6, 5, 8), (2, 7), (6, 5, 8), (6, 5, 8), (9, ), (2, 7)]\n",
    " \n",
    "# printing original list\n",
    "print(\"The original list is : \" + str(test_list))\n",
    " \n",
    "# one-liner to solve problem\n",
    "# assign Frequency as last element of tuple\n",
    "res=[]\n",
    "for i in test_list:\n",
    "    if i not in res:\n",
    "        res.append(i)\n",
    "res1=[]\n",
    "for i in res:\n",
    "    x=list(i)\n",
    "    x.append(test_list.count(i))\n",
    "    p=tuple(x)\n",
    "    res1.append(p)\n",
    " \n",
    "# printing results\n",
    "print(\"Frequency Tuple list : \" + str(res1))"
   ]
  },
  {
   "cell_type": "code",
   "execution_count": 16,
   "id": "4057f964",
   "metadata": {},
   "outputs": [
    {
     "name": "stdout",
     "output_type": "stream",
     "text": [
      "[(6, 5, 8, 3), (2, 7, 2), (9, 1)]\n"
     ]
    }
   ],
   "source": [
    "def assign_frequency(lst):\n",
    "    freq_dict = {}\n",
    "    for tup in lst:\n",
    "        if tup in freq_dict:\n",
    "            freq_dict[tup] += 1\n",
    "        else:\n",
    "            freq_dict[tup] = 1\n",
    "    return [(key + (value,)) for key, value in freq_dict.items()]\n",
    " \n",
    " \n",
    "# Driver Code\n",
    "lst = [(6, 5, 8), (2, 7), (6, 5, 8), (6, 5, 8), (9, ), (2, 7)]\n",
    "print(assign_frequency(lst))\n"
   ]
  },
  {
   "cell_type": "code",
   "execution_count": null,
   "id": "60293000",
   "metadata": {},
   "outputs": [],
   "source": []
  }
 ],
 "metadata": {
  "kernelspec": {
   "display_name": "Python 3 (ipykernel)",
   "language": "python",
   "name": "python3"
  },
  "language_info": {
   "codemirror_mode": {
    "name": "ipython",
    "version": 3
   },
   "file_extension": ".py",
   "mimetype": "text/x-python",
   "name": "python",
   "nbconvert_exporter": "python",
   "pygments_lexer": "ipython3",
   "version": "3.9.13"
  }
 },
 "nbformat": 4,
 "nbformat_minor": 5
}
